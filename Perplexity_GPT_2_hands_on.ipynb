{
 "cells": [
  {
   "cell_type": "code",
   "execution_count": null,
   "metadata": {},
   "outputs": [],
   "source": [
    "import torch\n",
    "from transformers import GPT2TokenizerFast, GPT2LMHeadModel\n",
    "\n",
    "#load a pretrained perplextiy model\n",
    "tokenizer = GPT2TokenizerFast.from_pretrained(\"gpt2\")\n",
    "model = GPT2LMHeadModel.from_pretrained(\"gpt2\")\n",
    "model.eval()"
   ]
  },
  {
   "cell_type": "code",
   "execution_count": 1,
   "metadata": {},
   "outputs": [],
   "source": [
    "#Perplexity Calculation"
   ]
  },
  {
   "cell_type": "code",
   "execution_count": null,
   "metadata": {},
   "outputs": [],
   "source": [
    "def calculate_perplexity(text, stride=512):\n",
    "    encodings = tokenizer(text, return_tensors=\"pt\")\n",
    "    nlls = []\n",
    "    input_ids = encodings.input_ids\n",
    "    seq_len = input_ids.size(1)\n",
    "\n",
    "    for i in range(0, seq_len, stride):\n",
    "        begin_loc = max(i + stride - model.config.n_positions, 0)\n",
    "        end_loc = min(i + stride, seq_len)\n",
    "        trg_len = end_loc - i\n",
    "        input_ids_chunk = input_ids[:, begin_loc:end_loc]\n",
    "        target_ids = input_ids_chunk.clone()\n",
    "        target_ids[:, :-trg_len] = -100\n",
    "\n",
    "        with torch.no_grad():\n",
    "            outputs = model(input_ids_chunk, labels=target_ids)\n",
    "            neg_log_likelihood = outputs.loss * trg_len\n",
    "\n",
    "        nlls.append(neg_log_likelihood)\n",
    "\n",
    "    ppl = torch.exp(torch.stack(nlls).sum() / end_loc)\n",
    "    return ppl.item()"
   ]
  },
  {
   "cell_type": "code",
   "execution_count": null,
   "metadata": {},
   "outputs": [],
   "source": [
    "df_sample_2[\"Title_ppl\"] = df_sample_2[\"Title\"].apply(calculate_perplexity)\n",
    "df_sample_2[\"Conclusion_ppl\"] = df_sample_2[\"Conclusion\"].apply(calculate_perplexity)"
   ]
  },
  {
   "cell_type": "code",
   "execution_count": null,
   "metadata": {},
   "outputs": [],
   "source": [
    "print(df_sample_2[[\"Title_ppl\", \"Conclusion_ppl\"]].head())"
   ]
  }
 ],
 "metadata": {
  "kernelspec": {
   "display_name": "base",
   "language": "python",
   "name": "python3"
  },
  "language_info": {
   "codemirror_mode": {
    "name": "ipython",
    "version": 3
   },
   "file_extension": ".py",
   "mimetype": "text/x-python",
   "name": "python",
   "nbconvert_exporter": "python",
   "pygments_lexer": "ipython3",
   "version": "3.12.3"
  }
 },
 "nbformat": 4,
 "nbformat_minor": 2
}
